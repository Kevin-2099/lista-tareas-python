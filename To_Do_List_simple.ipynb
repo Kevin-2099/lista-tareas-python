{
  "nbformat": 4,
  "nbformat_minor": 0,
  "metadata": {
    "colab": {
      "provenance": [],
      "authorship_tag": "ABX9TyNkH+6SKrg7c5CQK9rVG/Kp",
      "include_colab_link": true
    },
    "kernelspec": {
      "name": "python3",
      "display_name": "Python 3"
    },
    "language_info": {
      "name": "python"
    }
  },
  "cells": [
    {
      "cell_type": "markdown",
      "metadata": {
        "id": "view-in-github",
        "colab_type": "text"
      },
      "source": [
        "<a href=\"https://colab.research.google.com/github/Kevin-2099/lista-tareas-python/blob/main/To_Do_List_simple.ipynb\" target=\"_parent\"><img src=\"https://colab.research.google.com/assets/colab-badge.svg\" alt=\"Open In Colab\"/></a>"
      ]
    },
    {
      "cell_type": "code",
      "execution_count": 6,
      "metadata": {
        "colab": {
          "base_uri": "https://localhost:8080/"
        },
        "id": "_vWwqzu_4Y6y",
        "outputId": "7a00c773-3b42-4a5e-bc1d-c295a563575c"
      },
      "outputs": [
        {
          "name": "stdout",
          "output_type": "stream",
          "text": [
            "\n",
            "1. Añadir tarea\n",
            "2. Ver tareas\n",
            "3. Eliminar tarea\n",
            "4. Salir\n",
            "Selecciona opción: 4\n"
          ]
        }
      ],
      "source": [
        "tareas = []\n",
        "while True:\n",
        "    print(\"\\n1. Añadir tarea\")\n",
        "    print(\"2. Ver tareas\")\n",
        "    print(\"3. Eliminar tarea\")\n",
        "    print(\"4. Salir\")\n",
        "    opcion = input(\"Selecciona opción: \")\n",
        "    if opcion == \"1\":\n",
        "        nueva_tarea = input(\"Introduce la nueva tarea: \")\n",
        "        tareas.append(nueva_tarea)\n",
        "    elif opcion == \"2\":\n",
        "        for i, tarea in enumerate(tareas):\n",
        "            print(f\"{i+1}. {tarea}\")\n",
        "    elif opcion == \"3\":\n",
        "        tarea_a_eliminar = int(input(\"Número de tarea a eliminar: \")) - 1\n",
        "        if 0 <= tarea_a_eliminar < len(tareas):\n",
        "            tareas.pop(tarea_a_eliminar)\n",
        "        else:\n",
        "            print(\"Tarea no válida.\")\n",
        "    elif opcion == \"4\":\n",
        "        break\n",
        "    else:\n",
        "        print(\"Opción incorrecta.\")"
      ]
    }
  ]
}